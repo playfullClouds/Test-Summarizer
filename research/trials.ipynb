{
 "cells": [
  {
   "cell_type": "code",
   "execution_count": 2,
   "metadata": {},
   "outputs": [],
   "source": [
    "# import torch\n",
    "# from transformers import PegasusForConditionalGeneration\n",
    "\n",
    "# def load_model_from_safetensors(safetensors_path, model_save_path):\n",
    "#     # Initialize the model\n",
    "#     model = PegasusForConditionalGeneration.from_pretrained(model_save_path, state_dict=None)\n",
    "    \n",
    "#     # Assuming 'load_weights_from_safetensors' is a function you have that can read the safetensors file\n",
    "#     # and return a dictionary of model weights compatible with PyTorch\n",
    "#     weights = load_weights_from_safetensors(safetensors_path)\n",
    "    \n",
    "#     # Load the weights into the model\n",
    "#     model.load_state_dict(weights)\n",
    "    \n",
    "#     # Save the model in a format recognized by the Transformers library\n",
    "#     model.save_pretrained(model_save_path)\n",
    "\n",
    "# # Example usage\n",
    "# load_model_from_safetensors(\"C:\\\\Test-Summarizer\\\\artifacts\\\\model_trainer\\\\pegasus-samsum-model\\\\model.safetensors\", \"C:\\\\Test-Summarizer\\\\artifacts\\\\model_trainer\\\\pegasus-samsum-model\\\\model\")\n"
   ]
  },
  {
   "cell_type": "code",
   "execution_count": 3,
   "metadata": {},
   "outputs": [],
   "source": [
    "import torch\n",
    "\n",
    "# Step 1: Define a function to load your .safetensors file\n",
    "def load_safetensors(filepath):\n",
    "    # Your code here to read the .safetensors file\n",
    "    # This is highly dependent on how .safetensors files are structured\n",
    "    weights = {}  # This should be a dictionary {param_name: weight_tensor}\n",
    "    return weights\n",
    "\n",
    "# Step 2: Define your PyTorch model architecture\n",
    "class YourModel(torch.nn.Module):\n",
    "    def __init__(self):\n",
    "        super(YourModel, self).__init__()\n",
    "        # Define your model layers here\n",
    "        # Ensure this matches the model used to create the .safetensors file\n",
    "    \n",
    "    def forward(self, x):\n",
    "        # Define the forward pass\n",
    "        return x\n",
    "\n",
    "# Initialize your model\n",
    "model = YourModel()\n",
    "\n",
    "# Step 3: Load weights into your PyTorch model\n",
    "safetensors_weights = load_safetensors('C:\\Test-Summarizer\\artifacts\\model_trainer\\pegasus-samsum-model\\model.safetensors')\n",
    "for name, param in model.named_parameters():\n",
    "    if name in safetensors_weights:\n",
    "        # Assuming the weights can be directly copied\n",
    "        param.data = safetensors_weights[name]\n",
    "    else:\n",
    "        print(f\"Weight for {name} not found in safetensors file\")\n",
    "\n",
    "# Step 4: Save your model's state dict as a .bin file\n",
    "torch.save(model.state_dict(), 'pytorch_model.bin')\n"
   ]
  },
  {
   "cell_type": "code",
   "execution_count": null,
   "metadata": {},
   "outputs": [],
   "source": []
  }
 ],
 "metadata": {
  "kernelspec": {
   "display_name": "est",
   "language": "python",
   "name": "python3"
  },
  "language_info": {
   "codemirror_mode": {
    "name": "ipython",
    "version": 3
   },
   "file_extension": ".py",
   "mimetype": "text/x-python",
   "name": "python",
   "nbconvert_exporter": "python",
   "pygments_lexer": "ipython3",
   "version": "3.11.0"
  }
 },
 "nbformat": 4,
 "nbformat_minor": 2
}
