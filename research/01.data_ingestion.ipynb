{
 "cells": [
  {
   "cell_type": "code",
   "execution_count": 1,
   "metadata": {},
   "outputs": [
    {
     "name": "stdout",
     "output_type": "stream",
     "text": [
      "Current working directory: c:\\Test-Summarizer\\research\n",
      "Current working directory: C:\\Test-Summarizer\n"
     ]
    }
   ],
   "source": [
    "import os\n",
    "import yaml\n",
    "\n",
    "from pathlib import Path\n",
    "\n",
    "# Print the current working directory\n",
    "print(\"Current working directory:\", os.getcwd())\n",
    "\n",
    "\n",
    "project_root = Path('C:/Test-Summarizer')\n",
    "os.chdir(project_root)\n",
    "print(\"Current working directory:\", os.getcwd())\n",
    "\n",
    "\n",
    "# Specify the paths to your configuration and parameters files\n",
    "config_filepath = project_root / 'config' / 'config.yaml'\n",
    "params_filepath = project_root / 'params.yaml'\n",
    "\n",
    "\n"
   ]
  },
  {
   "cell_type": "code",
   "execution_count": 2,
   "metadata": {},
   "outputs": [],
   "source": [
    "from __future__ import annotations\n",
    "\n",
    "\n",
    "import zipfile\n",
    "import urllib.request as request\n",
    "from textSummarizer.logging import logger\n",
    "from textSummarizer.utils.common import get_size\n",
    "\n",
    "\n",
    "from pathlib import Path\n",
    "from dataclasses import dataclass\n",
    "\n",
    "\n",
    "from textSummarizer.constants import *\n",
    "# from textSummarizer.constants import CONFIG_FILE_PATH, PARAMS_FILE_PATH \n",
    "from textSummarizer.utils.common import read_yaml, create_directories"
   ]
  },
  {
   "cell_type": "code",
   "execution_count": 3,
   "metadata": {},
   "outputs": [
    {
     "data": {
      "text/plain": [
       "'C:\\\\Test-Summarizer'"
      ]
     },
     "execution_count": 3,
     "metadata": {},
     "output_type": "execute_result"
    }
   ],
   "source": [
    "# check working dir\n",
    "%pwd"
   ]
  },
  {
   "cell_type": "code",
   "execution_count": 4,
   "metadata": {},
   "outputs": [],
   "source": [
    "# change dir\n",
    "os.chdir(\"../\")"
   ]
  },
  {
   "cell_type": "code",
   "execution_count": 5,
   "metadata": {},
   "outputs": [],
   "source": [
    "# now check working dir\n",
    "# %pwd"
   ]
  },
  {
   "cell_type": "code",
   "execution_count": 6,
   "metadata": {},
   "outputs": [],
   "source": [
    "@dataclass(frozen=True)\n",
    "class DataIngestionConfig:\n",
    "    root_dir: Path\n",
    "    source_URL: str\n",
    "    local_data_file: Path\n",
    "    unzip_dir: Path\n",
    "    "
   ]
  },
  {
   "cell_type": "code",
   "execution_count": 7,
   "metadata": {},
   "outputs": [],
   "source": [
    "# from constants import CONFIG_FILE_PATH, PARAMS_FILE_PATH\n",
    "\n",
    "\n",
    "# class ConfigurationManager:\n",
    "#     def __init__(\n",
    "#         self,\n",
    "#         config_filepath: Path,\n",
    "#         params_filepath: Path):\n",
    "        \n",
    "        \n",
    "        \n",
    "#         self.config = read_yaml(config_filepath)\n",
    "#         self.params = read_yaml(params_filepath)\n",
    "        \n",
    "#         create_directories([self.config.artifacts_root])\n",
    "        \n",
    "        \n",
    "#     def get_data_ingestion_config(self) -> DataIngestionConfig:\n",
    "#         config = self.config.data_ingestion\n",
    "        \n",
    "#         create_directories([config.root_dir])\n",
    "        \n",
    "#         data_ingestion_config = DataIngestionConfig(\n",
    "#             root_dir=config.root_dir,\n",
    "#             source_URL=config.source_URL,\n",
    "#             local_data_file=config.local_data_file,\n",
    "#             unzip_dir=config.unzip_dir\n",
    "#         )\n",
    "        \n",
    "#         return data_ingestion_config\n",
    "\n",
    "\n",
    "\n",
    "# Assuming other imports and dataclass definitions remain the same\n",
    "\n",
    "class ConfigurationManager:\n",
    "    def __init__(\n",
    "        self,\n",
    "        config_filepath: Path,  # Changed from CONFIG_FILE_PATH to Path for clarity\n",
    "        params_filepath: Path):  # Changed from PARAMS_FILE_PATH to Path for clarity\n",
    "        \n",
    "        self.config = read_yaml(config_filepath)\n",
    "        self.params = read_yaml(params_filepath)\n",
    "        \n",
    "        create_directories([self.config['artifacts_root']])  # Adjusted based on actual usage\n",
    "        \n",
    "    def get_data_ingestion_config(self) -> DataIngestionConfig:\n",
    "        config = self.config['data_ingestion']\n",
    "        \n",
    "        create_directories([Path(config['root_dir'])])  # Ensure directory is a Path object\n",
    "        \n",
    "        data_ingestion_config = DataIngestionConfig(\n",
    "            root_dir=Path(config['root_dir']),  # Ensure these are Path objects\n",
    "            source_URL=config['source_URL'],\n",
    "            local_data_file=Path(config['local_data_file']),\n",
    "            unzip_dir=Path(config['unzip_dir'])\n",
    "        )\n",
    "        \n",
    "        return data_ingestion_config\n",
    "\n",
    "        \n",
    " "
   ]
  },
  {
   "cell_type": "code",
   "execution_count": 8,
   "metadata": {},
   "outputs": [],
   "source": [
    "class DataIngestion:\n",
    "    def __init__(self, config: DataIngestionConfig):\n",
    "        self.config = config\n",
    "        \n",
    "        \n",
    "    def download_file(self):\n",
    "        if not os.path.exists(self.config.local_data_file):\n",
    "            filename, headers = request.urlretrieve(\n",
    "                url = self.config.source_URL,\n",
    "                filename = self.config.local_data_file\n",
    "            )\n",
    "            logger.info(f\"{filename} downloaded with following info: \\n{headers}\")\n",
    "        else:\n",
    "            logger.info(f\"file already exists of sie: {get_size(Path(self.config.local_data_file))}\")\n",
    "            \n",
    "            \n",
    "    def unzip_data(self):\n",
    "        \"\"\"\n",
    "        zip_file_path: str\n",
    "        Extract the zip file into the data directory\n",
    "        Function returns None\n",
    "        \"\"\"\n",
    "        unzip_path = self.config.unzip_dir\n",
    "        # print(f\"Unzipping to {self.config.unzip_dir}\")\n",
    "        os.makedirs(unzip_path, exist_ok=True)\n",
    "        with zipfile.ZipFile(self.config.local_data_file, \"r\") as zip_ref:\n",
    "            zip_ref.extractall(unzip_path)\n",
    "        \n",
    "        \n",
    "        "
   ]
  },
  {
   "cell_type": "code",
   "execution_count": 9,
   "metadata": {},
   "outputs": [
    {
     "name": "stdout",
     "output_type": "stream",
     "text": [
      "[ 2024-03-25 23:51:22,766 - INFO - common -yaml file: C:\\Test-Summarizer\\config\\config.yaml loaded successfully]\n",
      "[ 2024-03-25 23:51:22,768 - INFO - common -yaml file: C:\\Test-Summarizer\\params.yaml loaded successfully]\n",
      "[ 2024-03-25 23:51:22,773 - INFO - common -Created directory at: artifacts]\n",
      "[ 2024-03-25 23:51:22,776 - INFO - common -Created directory at: artifacts\\data_ingestion]\n",
      "[ 2024-03-25 23:51:22,779 - INFO - 907021102 -file already exists of sie: ~ 7718 KB]\n"
     ]
    }
   ],
   "source": [
    "try:\n",
    "    config = ConfigurationManager(config_filepath=config_filepath, params_filepath=params_filepath)\n",
    "    data_ingestion_config = config.get_data_ingestion_config()\n",
    "    data_ingestion = DataIngestion(config=data_ingestion_config)\n",
    "    data_ingestion.download_file()\n",
    "    data_ingestion.unzip_data()\n",
    "except Exception as e:\n",
    "    raise e"
   ]
  },
  {
   "cell_type": "code",
   "execution_count": null,
   "metadata": {},
   "outputs": [],
   "source": []
  }
 ],
 "metadata": {
  "kernelspec": {
   "display_name": "Python 3 (ipykernel)",
   "language": "python",
   "name": "python3"
  },
  "language_info": {
   "codemirror_mode": {
    "name": "ipython",
    "version": 3
   },
   "file_extension": ".py",
   "mimetype": "text/x-python",
   "name": "python",
   "nbconvert_exporter": "python",
   "pygments_lexer": "ipython3",
   "version": "3.11.0"
  }
 },
 "nbformat": 4,
 "nbformat_minor": 4
}
