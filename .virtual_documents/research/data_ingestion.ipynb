import os

from pathlib import Path
from dataclasses import dataclass

from textSummarizer.constants import *
from textSummarizer.utils.common import read_yaml, create_directories


# check working dir
%pwd


# change dir
os.chdir("../")


# now check working dir
%pwd


@dataclass(frozen=True)
class DataIngestionConfig:
    root_dir: Path
    source_URL: str
    local_data_file: Path
    unzip_dir: Path
    



